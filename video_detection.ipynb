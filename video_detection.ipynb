{
 "cells": [
  {
   "cell_type": "code",
   "execution_count": 1,
   "id": "664c1ed3-2b4c-4870-b369-fdd83f5145ff",
   "metadata": {},
   "outputs": [],
   "source": [
    "import cv2\n",
    "import matplotlib.pyplot as plt"
   ]
  },
  {
   "cell_type": "code",
   "execution_count": 2,
   "id": "5eee1c28-bd3c-4d6d-a140-1447eb3d577e",
   "metadata": {},
   "outputs": [],
   "source": [
    "config_file = '../ssd_mobilenet_v3_large_coco_2020_01_14.pbtxt'\n",
    "frozen_model = '../frozen_inference_graph.pb'"
   ]
  },
  {
   "cell_type": "code",
   "execution_count": 3,
   "id": "600f9f6a-c1cd-4640-a864-a1255574b95b",
   "metadata": {},
   "outputs": [
    {
     "data": {
      "text/plain": [
       "< cv2.dnn.Model 00000203D012CBF0>"
      ]
     },
     "execution_count": 3,
     "metadata": {},
     "output_type": "execute_result"
    }
   ],
   "source": [
    "model = cv2.dnn_DetectionModel(frozen_model, config_file)\n",
    "\n",
    "model.setInputSize(320, 320)\n",
    "model.setInputScale(1.0/127.5) # 255 / 2 = 127.5\n",
    "model.setInputMean((127.5, 127.5, 127.5)) # mobilenet => [-1, 1]\n",
    "model.setInputSwapRB(True)"
   ]
  },
  {
   "cell_type": "code",
   "execution_count": 4,
   "id": "119c5ff5-479d-4430-a5d1-93a6796797d5",
   "metadata": {},
   "outputs": [],
   "source": [
    "classlabels = []\n",
    "file_name = '../labels.txt'\n",
    "with open(file_name, 'rt') as fpt:\n",
    "    classlabels = fpt.read().rstrip('\\n').split('\\n')\n",
    "# print(classlabels)"
   ]
  },
  {
   "cell_type": "code",
   "execution_count": 5,
   "id": "b686636b-a126-4e46-b1c8-891820008bc6",
   "metadata": {},
   "outputs": [],
   "source": [
    "cap = cv2.VideoCapture('../test.mp4')\n",
    "if not cap.isOpened():\n",
    "    cap = cv2.VideoCapture(0)\n",
    "if not cap.isOpened():\n",
    "    raise IOError('Cannot open the video')"
   ]
  },
  {
   "cell_type": "code",
   "execution_count": 6,
   "id": "753fa9d8-a3ac-4af5-870f-b1c649c7e952",
   "metadata": {},
   "outputs": [],
   "source": [
    "font_scale = 3\n",
    "font = cv2.FONT_HERSHEY_PLAIN"
   ]
  },
  {
   "cell_type": "code",
   "execution_count": 10,
   "id": "85dc564a-8cb2-4b3a-854e-d163e2d2d163",
   "metadata": {},
   "outputs": [],
   "source": [
    "while True:\n",
    "    ret, frame = cap.read()\n",
    "\n",
    "    ClassIndex, confidence, bbox = model.detect(frame, confThreshold=0.6)    \n",
    "\n",
    "    if len(ClassIndex) != 0:\n",
    "        for ClassInd, conf, boxes in zip(ClassIndex.flatten(), confidence.flatten(), bbox):\n",
    "            if ClassInd <= 80:\n",
    "                cv2.rectangle(frame, boxes, (255, 0, 0), 2)\n",
    "                cv2.putText(frame, classlabels[ClassInd-1], (boxes[0]+10, boxes[1]+40), font, fontScale=font_scale, color=(0, 255, 0), thickness=3)\n",
    "\n",
    "    cv2.imshow('Video Detection', frame)\n",
    "    if cv2.waitKey(2) & 0xff == ord('q'):\n",
    "        break\n",
    "\n",
    "cap.release()\n",
    "cv2.destroyAllWindows()"
   ]
  }
 ],
 "metadata": {
  "kernelspec": {
   "display_name": "Python 3 (ipykernel)",
   "language": "python",
   "name": "python3"
  },
  "language_info": {
   "codemirror_mode": {
    "name": "ipython",
    "version": 3
   },
   "file_extension": ".py",
   "mimetype": "text/x-python",
   "name": "python",
   "nbconvert_exporter": "python",
   "pygments_lexer": "ipython3",
   "version": "3.11.4"
  }
 },
 "nbformat": 4,
 "nbformat_minor": 5
}
