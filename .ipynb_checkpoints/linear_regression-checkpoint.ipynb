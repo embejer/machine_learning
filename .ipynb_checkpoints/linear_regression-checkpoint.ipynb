{
 "cells": [
  {
   "cell_type": "code",
   "execution_count": 1,
   "id": "4c5b1a83-358a-46d2-a9e7-94a7f4a9abbd",
   "metadata": {},
   "outputs": [],
   "source": [
    "import numpy as np\n",
    "import pandas as pd\n",
    "import matplotlib.pyplot as plt\n",
    "import seaborn as sns\n",
    "import sklearn"
   ]
  },
  {
   "cell_type": "code",
   "execution_count": 2,
   "id": "87150af1-f729-412a-baa8-4bbd9d9853e8",
   "metadata": {},
   "outputs": [],
   "source": [
    "from pylab import rcParams\n",
    "%matplotlib inline\n",
    "rcParams['figure.figsize'] = (10, 5)\n",
    "sns.set_style(\"dark\")"
   ]
  },
  {
   "cell_type": "code",
   "execution_count": 3,
   "id": "d88081c2-d22c-45c1-9071-f5b3dcfb684f",
   "metadata": {},
   "outputs": [
    {
     "data": {
      "text/html": [
       "<div>\n",
       "<style scoped>\n",
       "    .dataframe tbody tr th:only-of-type {\n",
       "        vertical-align: middle;\n",
       "    }\n",
       "\n",
       "    .dataframe tbody tr th {\n",
       "        vertical-align: top;\n",
       "    }\n",
       "\n",
       "    .dataframe thead th {\n",
       "        text-align: right;\n",
       "    }\n",
       "</style>\n",
       "<table border=\"1\" class=\"dataframe\">\n",
       "  <thead>\n",
       "    <tr style=\"text-align: right;\">\n",
       "      <th></th>\n",
       "      <th>SNo</th>\n",
       "      <th>Name</th>\n",
       "      <th>Symbol</th>\n",
       "      <th>Date</th>\n",
       "      <th>High</th>\n",
       "      <th>Low</th>\n",
       "      <th>Open</th>\n",
       "      <th>Close</th>\n",
       "      <th>Volume</th>\n",
       "      <th>Marketcap</th>\n",
       "    </tr>\n",
       "  </thead>\n",
       "  <tbody>\n",
       "    <tr>\n",
       "      <th>0</th>\n",
       "      <td>1</td>\n",
       "      <td>Dogecoin</td>\n",
       "      <td>DOGE</td>\n",
       "      <td>2013-12-16 23:59:59</td>\n",
       "      <td>0.000866</td>\n",
       "      <td>0.000150</td>\n",
       "      <td>0.000299</td>\n",
       "      <td>0.000205</td>\n",
       "      <td>0.0</td>\n",
       "      <td>1.509085e+06</td>\n",
       "    </tr>\n",
       "    <tr>\n",
       "      <th>1</th>\n",
       "      <td>2</td>\n",
       "      <td>Dogecoin</td>\n",
       "      <td>DOGE</td>\n",
       "      <td>2013-12-17 23:59:59</td>\n",
       "      <td>0.000289</td>\n",
       "      <td>0.000116</td>\n",
       "      <td>0.000207</td>\n",
       "      <td>0.000269</td>\n",
       "      <td>0.0</td>\n",
       "      <td>2.169688e+06</td>\n",
       "    </tr>\n",
       "    <tr>\n",
       "      <th>2</th>\n",
       "      <td>3</td>\n",
       "      <td>Dogecoin</td>\n",
       "      <td>DOGE</td>\n",
       "      <td>2013-12-18 23:59:59</td>\n",
       "      <td>0.000362</td>\n",
       "      <td>0.000205</td>\n",
       "      <td>0.000267</td>\n",
       "      <td>0.000362</td>\n",
       "      <td>0.0</td>\n",
       "      <td>3.188943e+06</td>\n",
       "    </tr>\n",
       "    <tr>\n",
       "      <th>3</th>\n",
       "      <td>4</td>\n",
       "      <td>Dogecoin</td>\n",
       "      <td>DOGE</td>\n",
       "      <td>2013-12-19 23:59:59</td>\n",
       "      <td>0.001520</td>\n",
       "      <td>0.000328</td>\n",
       "      <td>0.000395</td>\n",
       "      <td>0.001162</td>\n",
       "      <td>0.0</td>\n",
       "      <td>1.115034e+07</td>\n",
       "    </tr>\n",
       "    <tr>\n",
       "      <th>4</th>\n",
       "      <td>5</td>\n",
       "      <td>Dogecoin</td>\n",
       "      <td>DOGE</td>\n",
       "      <td>2013-12-20 23:59:59</td>\n",
       "      <td>0.001143</td>\n",
       "      <td>0.000662</td>\n",
       "      <td>0.001143</td>\n",
       "      <td>0.000704</td>\n",
       "      <td>0.0</td>\n",
       "      <td>7.284337e+06</td>\n",
       "    </tr>\n",
       "  </tbody>\n",
       "</table>\n",
       "</div>"
      ],
      "text/plain": [
       "   SNo      Name Symbol                 Date      High       Low      Open  \\\n",
       "0    1  Dogecoin   DOGE  2013-12-16 23:59:59  0.000866  0.000150  0.000299   \n",
       "1    2  Dogecoin   DOGE  2013-12-17 23:59:59  0.000289  0.000116  0.000207   \n",
       "2    3  Dogecoin   DOGE  2013-12-18 23:59:59  0.000362  0.000205  0.000267   \n",
       "3    4  Dogecoin   DOGE  2013-12-19 23:59:59  0.001520  0.000328  0.000395   \n",
       "4    5  Dogecoin   DOGE  2013-12-20 23:59:59  0.001143  0.000662  0.001143   \n",
       "\n",
       "      Close  Volume     Marketcap  \n",
       "0  0.000205     0.0  1.509085e+06  \n",
       "1  0.000269     0.0  2.169688e+06  \n",
       "2  0.000362     0.0  3.188943e+06  \n",
       "3  0.001162     0.0  1.115034e+07  \n",
       "4  0.000704     0.0  7.284337e+06  "
      ]
     },
     "execution_count": 3,
     "metadata": {},
     "output_type": "execute_result"
    }
   ],
   "source": [
    "doge_df = pd.read_csv('../datasets/coin_Dogecoin.csv')\n",
    "doge_df.head()"
   ]
  },
  {
   "cell_type": "code",
   "execution_count": 4,
   "id": "72d83d1d-7cda-4fd4-9ab1-cf2ef20bbf27",
   "metadata": {},
   "outputs": [
    {
     "name": "stdout",
     "output_type": "stream",
     "text": [
      "<class 'pandas.core.frame.DataFrame'>\n",
      "RangeIndex: 2760 entries, 0 to 2759\n",
      "Data columns (total 10 columns):\n",
      " #   Column     Non-Null Count  Dtype  \n",
      "---  ------     --------------  -----  \n",
      " 0   SNo        2760 non-null   int64  \n",
      " 1   Name       2760 non-null   object \n",
      " 2   Symbol     2760 non-null   object \n",
      " 3   Date       2760 non-null   object \n",
      " 4   High       2760 non-null   float64\n",
      " 5   Low        2760 non-null   float64\n",
      " 6   Open       2760 non-null   float64\n",
      " 7   Close      2760 non-null   float64\n",
      " 8   Volume     2760 non-null   float64\n",
      " 9   Marketcap  2760 non-null   float64\n",
      "dtypes: float64(6), int64(1), object(3)\n",
      "memory usage: 215.8+ KB\n"
     ]
    }
   ],
   "source": [
    "doge_df.info()"
   ]
  },
  {
   "cell_type": "code",
   "execution_count": 5,
   "id": "b8d0ebab-940f-43a6-ac4f-0ead7faa9b21",
   "metadata": {},
   "outputs": [
    {
     "data": {
      "text/plain": [
       "<Axes: ylabel='Close'>"
      ]
     },
     "execution_count": 5,
     "metadata": {},
     "output_type": "execute_result"
    },
    {
     "data": {
      "image/png": "[encoded data removed]",
      "text/plain": [
       "<Figure size 1000x500 with 1 Axes>"
      ]
     },
     "metadata": {},
     "output_type": "display_data"
    }
   ],
   "source": [
    "sns.lineplot(doge_df, x=doge_df.index, y=doge_df['Close'])"
   ]
  },
  {
   "cell_type": "code",
   "execution_count": 6,
   "id": "60d1f6eb-88d5-4673-a59c-f7ed4fa4adce",
   "metadata": {},
   "outputs": [
    {
     "data": {
      "text/html": [
       "<div>\n",
       "<style scoped>\n",
       "    .dataframe tbody tr th:only-of-type {\n",
       "        vertical-align: middle;\n",
       "    }\n",
       "\n",
       "    .dataframe tbody tr th {\n",
       "        vertical-align: top;\n",
       "    }\n",
       "\n",
       "    .dataframe thead th {\n",
       "        text-align: right;\n",
       "    }\n",
       "</style>\n",
       "<table border=\"1\" class=\"dataframe\">\n",
       "  <thead>\n",
       "    <tr style=\"text-align: right;\">\n",
       "      <th></th>\n",
       "      <th>High</th>\n",
       "      <th>Low</th>\n",
       "      <th>Open</th>\n",
       "      <th>Close</th>\n",
       "      <th>Volume</th>\n",
       "      <th>Marketcap</th>\n",
       "    </tr>\n",
       "  </thead>\n",
       "  <tbody>\n",
       "    <tr>\n",
       "      <th>0</th>\n",
       "      <td>0.000866</td>\n",
       "      <td>0.000150</td>\n",
       "      <td>0.000299</td>\n",
       "      <td>0.000205</td>\n",
       "      <td>0.0</td>\n",
       "      <td>1.509085e+06</td>\n",
       "    </tr>\n",
       "    <tr>\n",
       "      <th>1</th>\n",
       "      <td>0.000289</td>\n",
       "      <td>0.000116</td>\n",
       "      <td>0.000207</td>\n",
       "      <td>0.000269</td>\n",
       "      <td>0.0</td>\n",
       "      <td>2.169688e+06</td>\n",
       "    </tr>\n",
       "    <tr>\n",
       "      <th>2</th>\n",
       "      <td>0.000362</td>\n",
       "      <td>0.000205</td>\n",
       "      <td>0.000267</td>\n",
       "      <td>0.000362</td>\n",
       "      <td>0.0</td>\n",
       "      <td>3.188943e+06</td>\n",
       "    </tr>\n",
       "    <tr>\n",
       "      <th>3</th>\n",
       "      <td>0.001520</td>\n",
       "      <td>0.000328</td>\n",
       "      <td>0.000395</td>\n",
       "      <td>0.001162</td>\n",
       "      <td>0.0</td>\n",
       "      <td>1.115034e+07</td>\n",
       "    </tr>\n",
       "    <tr>\n",
       "      <th>4</th>\n",
       "      <td>0.001143</td>\n",
       "      <td>0.000662</td>\n",
       "      <td>0.001143</td>\n",
       "      <td>0.000704</td>\n",
       "      <td>0.0</td>\n",
       "      <td>7.284337e+06</td>\n",
       "    </tr>\n",
       "  </tbody>\n",
       "</table>\n",
       "</div>"
      ],
      "text/plain": [
       "       High       Low      Open     Close  Volume     Marketcap\n",
       "0  0.000866  0.000150  0.000299  0.000205     0.0  1.509085e+06\n",
       "1  0.000289  0.000116  0.000207  0.000269     0.0  2.169688e+06\n",
       "2  0.000362  0.000205  0.000267  0.000362     0.0  3.188943e+06\n",
       "3  0.001520  0.000328  0.000395  0.001162     0.0  1.115034e+07\n",
       "4  0.001143  0.000662  0.001143  0.000704     0.0  7.284337e+06"
      ]
     },
     "execution_count": 6,
     "metadata": {},
     "output_type": "execute_result"
    }
   ],
   "source": [
    "doge_heatmap_df = doge_df[['High', 'Low', 'Open', 'Close', 'Volume', 'Marketcap']]\n",
    "doge_heatmap_df.head()"
   ]
  },
  {
   "cell_type": "code",
   "execution_count": 7,
   "id": "32190ee7-e057-4fd1-9a99-e9484022db59",
   "metadata": {},
   "outputs": [
    {
     "data": {
      "text/plain": [
       "<Axes: >"
      ]
     },
     "execution_count": 7,
     "metadata": {},
     "output_type": "execute_result"
    },
    {
     "data": {
      "image/png": "[encoded data removed]",
      "text/plain": [
       "<Figure size 1000x500 with 2 Axes>"
      ]
     },
     "metadata": {},
     "output_type": "display_data"
    }
   ],
   "source": [
    "sns.heatmap(doge_heatmap_df.corr())"
   ]
  },
  {
   "cell_type": "code",
   "execution_count": 8,
   "id": "1a829962-56e4-480f-b439-2193bb6d6383",
   "metadata": {},
   "outputs": [
    {
     "data": {
      "text/html": [
       "<div>\n",
       "<style scoped>\n",
       "    .dataframe tbody tr th:only-of-type {\n",
       "        vertical-align: middle;\n",
       "    }\n",
       "\n",
       "    .dataframe tbody tr th {\n",
       "        vertical-align: top;\n",
       "    }\n",
       "\n",
       "    .dataframe thead th {\n",
       "        text-align: right;\n",
       "    }\n",
       "</style>\n",
       "<table border=\"1\" class=\"dataframe\">\n",
       "  <thead>\n",
       "    <tr style=\"text-align: right;\">\n",
       "      <th></th>\n",
       "      <th>SNo</th>\n",
       "      <th>High</th>\n",
       "      <th>Low</th>\n",
       "      <th>Open</th>\n",
       "      <th>Close</th>\n",
       "      <th>Marketcap</th>\n",
       "    </tr>\n",
       "  </thead>\n",
       "  <tbody>\n",
       "    <tr>\n",
       "      <th>0</th>\n",
       "      <td>1</td>\n",
       "      <td>0.000866</td>\n",
       "      <td>0.000150</td>\n",
       "      <td>0.000299</td>\n",
       "      <td>0.000205</td>\n",
       "      <td>1.509085e+06</td>\n",
       "    </tr>\n",
       "    <tr>\n",
       "      <th>1</th>\n",
       "      <td>2</td>\n",
       "      <td>0.000289</td>\n",
       "      <td>0.000116</td>\n",
       "      <td>0.000207</td>\n",
       "      <td>0.000269</td>\n",
       "      <td>2.169688e+06</td>\n",
       "    </tr>\n",
       "    <tr>\n",
       "      <th>2</th>\n",
       "      <td>3</td>\n",
       "      <td>0.000362</td>\n",
       "      <td>0.000205</td>\n",
       "      <td>0.000267</td>\n",
       "      <td>0.000362</td>\n",
       "      <td>3.188943e+06</td>\n",
       "    </tr>\n",
       "    <tr>\n",
       "      <th>3</th>\n",
       "      <td>4</td>\n",
       "      <td>0.001520</td>\n",
       "      <td>0.000328</td>\n",
       "      <td>0.000395</td>\n",
       "      <td>0.001162</td>\n",
       "      <td>1.115034e+07</td>\n",
       "    </tr>\n",
       "    <tr>\n",
       "      <th>4</th>\n",
       "      <td>5</td>\n",
       "      <td>0.001143</td>\n",
       "      <td>0.000662</td>\n",
       "      <td>0.001143</td>\n",
       "      <td>0.000704</td>\n",
       "      <td>7.284337e+06</td>\n",
       "    </tr>\n",
       "  </tbody>\n",
       "</table>\n",
       "</div>"
      ],
      "text/plain": [
       "   SNo      High       Low      Open     Close     Marketcap\n",
       "0    1  0.000866  0.000150  0.000299  0.000205  1.509085e+06\n",
       "1    2  0.000289  0.000116  0.000207  0.000269  2.169688e+06\n",
       "2    3  0.000362  0.000205  0.000267  0.000362  3.188943e+06\n",
       "3    4  0.001520  0.000328  0.000395  0.001162  1.115034e+07\n",
       "4    5  0.001143  0.000662  0.001143  0.000704  7.284337e+06"
      ]
     },
     "execution_count": 8,
     "metadata": {},
     "output_type": "execute_result"
    }
   ],
   "source": [
    "doge_df.drop(['Volume', 'Name', 'Symbol', 'Date'], axis=1, inplace=True)\n",
    "doge_df.head()"
   ]
  },
  {
   "cell_type": "code",
   "execution_count": 9,
   "id": "d752eec8-7eb4-478c-ac2a-6cad55aa14ce",
   "metadata": {},
   "outputs": [],
   "source": [
    "from sklearn.model_selection import train_test_split"
   ]
  },
  {
   "cell_type": "code",
   "execution_count": 10,
   "id": "fa5daba4-09d7-4aca-ad10-0466fdfec3fb",
   "metadata": {},
   "outputs": [],
   "source": [
    "X_df = doge_df.drop('Close', axis=1)\n",
    "y_df = doge_df['Close']\n",
    "X_train, X_test, y_train, y_test = train_test_split(X_df, y_df, test_size=0.3, random_state=200)"
   ]
  },
  {
   "cell_type": "code",
   "execution_count": 11,
   "id": "1feda047-1848-47e6-9a2e-3abe4606d30e",
   "metadata": {},
   "outputs": [
    {
     "name": "stdout",
     "output_type": "stream",
     "text": [
      "(1932, 5) (1932,)\n"
     ]
    }
   ],
   "source": [
    "print(X_train.shape, y_train.shape)"
   ]
  },
  {
   "cell_type": "code",
   "execution_count": 12,
   "id": "6f9c50a6-64b9-44c5-b925-8f5cc011e885",
   "metadata": {},
   "outputs": [
    {
     "data": {
      "text/html": [
       "<style>#sk-container-id-1 {color: black;}#sk-container-id-1 pre{padding: 0;}#sk-container-id-1 div.sk-toggleable {background-color: white;}#sk-container-id-1 label.sk-toggleable__label {cursor: pointer;display: block;width: 100%;margin-bottom: 0;padding: 0.3em;box-sizing: border-box;text-align: center;}#sk-container-id-1 label.sk-toggleable__label-arrow:before {content: \"▸\";float: left;margin-right: 0.25em;color: #696969;}#sk-container-id-1 label.sk-toggleable__label-arrow:hover:before {color: black;}#sk-container-id-1 div.sk-estimator:hover label.sk-toggleable__label-arrow:before {color: black;}#sk-container-id-1 div.sk-toggleable__content {max-height: 0;max-width: 0;overflow: hidden;text-align: left;background-color: #f0f8ff;}#sk-container-id-1 div.sk-toggleable__content pre {margin: 0.2em;color: black;border-radius: 0.25em;background-color: #f0f8ff;}#sk-container-id-1 input.sk-toggleable__control:checked~div.sk-toggleable__content {max-height: 200px;max-width: 100%;overflow: auto;}#sk-container-id-1 input.sk-toggleable__control:checked~label.sk-toggleable__label-arrow:before {content: \"▾\";}#sk-container-id-1 div.sk-estimator input.sk-toggleable__control:checked~label.sk-toggleable__label {background-color: #d4ebff;}#sk-container-id-1 div.sk-label input.sk-toggleable__control:checked~label.sk-toggleable__label {background-color: #d4ebff;}#sk-container-id-1 input.sk-hidden--visually {border: 0;clip: rect(1px 1px 1px 1px);clip: rect(1px, 1px, 1px, 1px);height: 1px;margin: -1px;overflow: hidden;padding: 0;position: absolute;width: 1px;}#sk-container-id-1 div.sk-estimator {font-family: monospace;background-color: #f0f8ff;border: 1px dotted black;border-radius: 0.25em;box-sizing: border-box;margin-bottom: 0.5em;}#sk-container-id-1 div.sk-estimator:hover {background-color: #d4ebff;}#sk-container-id-1 div.sk-parallel-item::after {content: \"\";width: 100%;border-bottom: 1px solid gray;flex-grow: 1;}#sk-container-id-1 div.sk-label:hover label.sk-toggleable__label {background-color: #d4ebff;}#sk-container-id-1 div.sk-serial::before {content: \"\";position: absolute;border-left: 1px solid gray;box-sizing: border-box;top: 0;bottom: 0;left: 50%;z-index: 0;}#sk-container-id-1 div.sk-serial {display: flex;flex-direction: column;align-items: center;background-color: white;padding-right: 0.2em;padding-left: 0.2em;position: relative;}#sk-container-id-1 div.sk-item {position: relative;z-index: 1;}#sk-container-id-1 div.sk-parallel {display: flex;align-items: stretch;justify-content: center;background-color: white;position: relative;}#sk-container-id-1 div.sk-item::before, #sk-container-id-1 div.sk-parallel-item::before {content: \"\";position: absolute;border-left: 1px solid gray;box-sizing: border-box;top: 0;bottom: 0;left: 50%;z-index: -1;}#sk-container-id-1 div.sk-parallel-item {display: flex;flex-direction: column;z-index: 1;position: relative;background-color: white;}#sk-container-id-1 div.sk-parallel-item:first-child::after {align-self: flex-end;width: 50%;}#sk-container-id-1 div.sk-parallel-item:last-child::after {align-self: flex-start;width: 50%;}#sk-container-id-1 div.sk-parallel-item:only-child::after {width: 0;}#sk-container-id-1 div.sk-dashed-wrapped {border: 1px dashed gray;margin: 0 0.4em 0.5em 0.4em;box-sizing: border-box;padding-bottom: 0.4em;background-color: white;}#sk-container-id-1 div.sk-label label {font-family: monospace;font-weight: bold;display: inline-block;line-height: 1.2em;}#sk-container-id-1 div.sk-label-container {text-align: center;}#sk-container-id-1 div.sk-container {/* jupyter's `normalize.less` sets `[hidden] { display: none; }` but bootstrap.min.css set `[hidden] { display: none !important; }` so we also need the `!important` here to be able to override the default hidden behavior on the sphinx rendered scikit-learn.org. See: https://github.com/scikit-learn/scikit-learn/issues/21755 */display: inline-block !important;position: relative;}#sk-container-id-1 div.sk-text-repr-fallback {display: none;}</style><div id=\"sk-container-id-1\" class=\"sk-top-container\"><div class=\"sk-text-repr-fallback\"><pre>LinearRegression()</pre><b>In a Jupyter environment, please rerun this cell to show the HTML representation or trust the notebook. <br />On GitHub, the HTML representation is unable to render, please try loading this page with nbviewer.org.</b></div><div class=\"sk-container\" hidden><div class=\"sk-item\"><div class=\"sk-estimator sk-toggleable\"><input class=\"sk-toggleable__control sk-hidden--visually\" id=\"sk-estimator-id-1\" type=\"checkbox\" checked><label for=\"sk-estimator-id-1\" class=\"sk-toggleable__label sk-toggleable__label-arrow\">LinearRegression</label><div class=\"sk-toggleable__content\"><pre>LinearRegression()</pre></div></div></div></div></div>"
      ],
      "text/plain": [
       "LinearRegression()"
      ]
     },
     "execution_count": 12,
     "metadata": {},
     "output_type": "execute_result"
    }
   ],
   "source": [
    "from sklearn.linear_model import LinearRegression\n",
    "linear_regressor = LinearRegression()\n",
    "linear_regressor.fit(X_train, y_train)"
   ]
  },
  {
   "cell_type": "code",
   "execution_count": 13,
   "id": "8ebb566a-0c2d-4576-93d8-aa14693f9433",
   "metadata": {},
   "outputs": [],
   "source": [
    "y_pred =  linear_regressor.predict(X_test)\n",
    "# print(y_pred)"
   ]
  },
  {
   "cell_type": "code",
   "execution_count": 14,
   "id": "48f2b17d-adaa-4446-bfeb-79049fd0962d",
   "metadata": {},
   "outputs": [
    {
     "name": "stdout",
     "output_type": "stream",
     "text": [
      "[ 2.69417228e-08  3.03453846e-02  3.35887842e-03 -1.30686069e-02\n",
      "  7.53061502e-12]\n"
     ]
    }
   ],
   "source": [
    "print(linear_regressor.coef_)"
   ]
  },
  {
   "cell_type": "code",
   "execution_count": 15,
   "id": "37fa3f19-6436-450b-81e1-b4ac1f49d1ba",
   "metadata": {},
   "outputs": [
    {
     "name": "stdout",
     "output_type": "stream",
     "text": [
      "0.00015287583699405242\n"
     ]
    }
   ],
   "source": [
    "print(linear_regressor.intercept_)"
   ]
  },
  {
   "cell_type": "code",
   "execution_count": 16,
   "id": "75441296-05b0-421a-858a-4b1bb33542d4",
   "metadata": {},
   "outputs": [
    {
     "data": {
      "text/plain": [
       "0.9999486291396914"
      ]
     },
     "execution_count": 16,
     "metadata": {},
     "output_type": "execute_result"
    }
   ],
   "source": [
    "from sklearn.metrics import r2_score\n",
    "r2_score(y_test, y_pred)"
   ]
  },
  {
   "cell_type": "code",
   "execution_count": 17,
   "id": "933777cf-a002-4b39-a1be-e55107f65236",
   "metadata": {},
   "outputs": [],
   "source": [
    "X_test_pred = pd.DataFrame(X_test)"
   ]
  },
  {
   "cell_type": "code",
   "execution_count": 18,
   "id": "7eac8e52-0afb-4b0b-8641-2398ce8bea50",
   "metadata": {},
   "outputs": [],
   "source": [
    "X_test_pred['Close'] = np.array(y_pred)"
   ]
  },
  {
   "cell_type": "code",
   "execution_count": 19,
   "id": "653378f0-df1b-4da0-ab3d-74c3abe9e40b",
   "metadata": {},
   "outputs": [
    {
     "data": {
      "text/html": [
       "<div>\n",
       "<style scoped>\n",
       "    .dataframe tbody tr th:only-of-type {\n",
       "        vertical-align: middle;\n",
       "    }\n",
       "\n",
       "    .dataframe tbody tr th {\n",
       "        vertical-align: top;\n",
       "    }\n",
       "\n",
       "    .dataframe thead th {\n",
       "        text-align: right;\n",
       "    }\n",
       "</style>\n",
       "<table border=\"1\" class=\"dataframe\">\n",
       "  <thead>\n",
       "    <tr style=\"text-align: right;\">\n",
       "      <th></th>\n",
       "      <th>SNo</th>\n",
       "      <th>High</th>\n",
       "      <th>Low</th>\n",
       "      <th>Open</th>\n",
       "      <th>Marketcap</th>\n",
       "      <th>Close</th>\n",
       "      <th>Close1</th>\n",
       "    </tr>\n",
       "  </thead>\n",
       "  <tbody>\n",
       "    <tr>\n",
       "      <th>2126</th>\n",
       "      <td>2127</td>\n",
       "      <td>0.002383</td>\n",
       "      <td>0.002310</td>\n",
       "      <td>0.002328</td>\n",
       "      <td>2.845180e+08</td>\n",
       "      <td>0.002402</td>\n",
       "      <td>0.002340</td>\n",
       "    </tr>\n",
       "    <tr>\n",
       "      <th>2012</th>\n",
       "      <td>2013</td>\n",
       "      <td>0.003204</td>\n",
       "      <td>0.003095</td>\n",
       "      <td>0.003143</td>\n",
       "      <td>3.793201e+08</td>\n",
       "      <td>0.003130</td>\n",
       "      <td>0.003161</td>\n",
       "    </tr>\n",
       "    <tr>\n",
       "      <th>1189</th>\n",
       "      <td>1190</td>\n",
       "      <td>0.000240</td>\n",
       "      <td>0.000215</td>\n",
       "      <td>0.000219</td>\n",
       "      <td>2.553062e+07</td>\n",
       "      <td>0.000382</td>\n",
       "      <td>0.000235</td>\n",
       "    </tr>\n",
       "    <tr>\n",
       "      <th>636</th>\n",
       "      <td>637</td>\n",
       "      <td>0.000129</td>\n",
       "      <td>0.000123</td>\n",
       "      <td>0.000127</td>\n",
       "      <td>1.270264e+07</td>\n",
       "      <td>0.000268</td>\n",
       "      <td>0.000126</td>\n",
       "    </tr>\n",
       "    <tr>\n",
       "      <th>560</th>\n",
       "      <td>561</td>\n",
       "      <td>0.000216</td>\n",
       "      <td>0.000203</td>\n",
       "      <td>0.000203</td>\n",
       "      <td>2.135260e+07</td>\n",
       "      <td>0.000333</td>\n",
       "      <td>0.000214</td>\n",
       "    </tr>\n",
       "  </tbody>\n",
       "</table>\n",
       "</div>"
      ],
      "text/plain": [
       "       SNo      High       Low      Open     Marketcap     Close    Close1\n",
       "2126  2127  0.002383  0.002310  0.002328  2.845180e+08  0.002402  0.002340\n",
       "2012  2013  0.003204  0.003095  0.003143  3.793201e+08  0.003130  0.003161\n",
       "1189  1190  0.000240  0.000215  0.000219  2.553062e+07  0.000382  0.000235\n",
       "636    637  0.000129  0.000123  0.000127  1.270264e+07  0.000268  0.000126\n",
       "560    561  0.000216  0.000203  0.000203  2.135260e+07  0.000333  0.000214"
      ]
     },
     "execution_count": 19,
     "metadata": {},
     "output_type": "execute_result"
    }
   ],
   "source": [
    "X_test_pred['Close1'] = np.array(y_test)\n",
    "X_test_pred.head()"
   ]
  },
  {
   "cell_type": "code",
   "execution_count": 27,
   "id": "bc42eba7-accf-4852-8133-a60288411168",
   "metadata": {},
   "outputs": [
    {
     "data": {
      "text/plain": [
       "<matplotlib.legend.Legend at 0x27342c93690>"
      ]
     },
     "execution_count": 27,
     "metadata": {},
     "output_type": "execute_result"
    },
    {
     "data": {
      "image/png": "[encoded data removed]",
      "text/plain": [
       "<Figure size 1000x500 with 1 Axes>"
      ]
     },
     "metadata": {},
     "output_type": "display_data"
    }
   ],
   "source": [
    "sns.lineplot(data=X_test_pred[['Close', 'Close1']])\n",
    "plt.legend(bbox_to_anchor=(1, 1), loc='upper left')"
   ]
  },
  {
   "cell_type": "code",
   "execution_count": null,
   "id": "72ed4ee2-86dd-41db-8eaa-f1c66f60639a",
   "metadata": {},
   "outputs": [],
   "source": []
  }
 ],
 "metadata": {
  "kernelspec": {
   "display_name": "Python 3 (ipykernel)",
   "language": "python",
   "name": "python3"
  },
  "language_info": {
   "codemirror_mode": {
    "name": "ipython",
    "version": 3
   },
   "file_extension": ".py",
   "mimetype": "text/x-python",
   "name": "python",
   "nbconvert_exporter": "python",
   "pygments_lexer": "ipython3",
   "version": "3.11.4"
  }
 },
 "nbformat": 4,
 "nbformat_minor": 5
}
