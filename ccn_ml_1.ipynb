{
 "cells": [
  {
   "cell_type": "code",
   "execution_count": 74,
   "id": "be90ef84-24f3-44fe-b413-f162e8018d75",
   "metadata": {},
   "outputs": [],
   "source": [
    "import tensorflow as tf\n",
    "import matplotlib.pyplot as plt\n",
    "import numpy as np\n",
    "from sklearn.metrics import classification_report\n",
    "from tensorflow.keras import  datasets, layers, models"
   ]
  },
  {
   "cell_type": "code",
   "execution_count": 2,
   "id": "8caf050b-09bc-40cb-80e6-65179b87e52a",
   "metadata": {},
   "outputs": [
    {
     "name": "stdout",
     "output_type": "stream",
     "text": [
      "Downloading data from https://www.cs.toronto.edu/~kriz/cifar-10-python.tar.gz\n",
      "170498071/170498071 [==============================] - 22s 0us/step\n"
     ]
    },
    {
     "data": {
      "text/plain": [
       "(50000, 32, 32, 3)"
      ]
     },
     "execution_count": 2,
     "metadata": {},
     "output_type": "execute_result"
    }
   ],
   "source": [
    "(X_train, y_train), (X_test, y_test) = datasets.cifar10.load_data()\n",
    "X_train.shape"
   ]
  },
  {
   "cell_type": "code",
   "execution_count": 3,
   "id": "274b326c-cbef-4b79-9d4d-092210f145e0",
   "metadata": {},
   "outputs": [
    {
     "data": {
      "text/plain": [
       "(10000, 32, 32, 3)"
      ]
     },
     "execution_count": 3,
     "metadata": {},
     "output_type": "execute_result"
    }
   ],
   "source": [
    "X_test.shape"
   ]
  },
  {
   "cell_type": "code",
   "execution_count": 9,
   "id": "04cd664b-425d-4325-877d-68cd247062ae",
   "metadata": {},
   "outputs": [
    {
     "data": {
      "text/plain": [
       "<matplotlib.image.AxesImage at 0x251b6cb1b90>"
      ]
     },
     "execution_count": 9,
     "metadata": {},
     "output_type": "execute_result"
    },
    {
     "data": {
      "image/png": "[encoded data removed]",
      "text/plain": [
       "<Figure size 1000x200 with 1 Axes>"
      ]
     },
     "metadata": {},
     "output_type": "display_data"
    }
   ],
   "source": [
    "plt.figure(figsize=(10,2))\n",
    "plt.imshow(X_train[1])"
   ]
  },
  {
   "cell_type": "code",
   "execution_count": 11,
   "id": "0134e053-907b-4d21-b340-a390a2828abe",
   "metadata": {},
   "outputs": [
    {
     "name": "stdout",
     "output_type": "stream",
     "text": [
      "[9]\n"
     ]
    }
   ],
   "source": [
    "print(y_train[1])"
   ]
  },
  {
   "cell_type": "code",
   "execution_count": 12,
   "id": "d56f105d-c849-446a-967b-286adceeb757",
   "metadata": {},
   "outputs": [
    {
     "data": {
      "text/plain": [
       "array([6, 9, 9, 4, 1], dtype=uint8)"
      ]
     },
     "execution_count": 12,
     "metadata": {},
     "output_type": "execute_result"
    }
   ],
   "source": [
    "y_train_flat = y_train.reshape(-1,)\n",
    "y_train_flat[:5]"
   ]
  },
  {
   "cell_type": "code",
   "execution_count": 13,
   "id": "505e8fcb-3361-4131-9c2b-469b74577d58",
   "metadata": {},
   "outputs": [],
   "source": [
    "label_names = ['airplane', 'car', 'bird', 'cat', 'deer', 'dog', 'frog', 'horse', 'ship', 'truck']"
   ]
  },
  {
   "cell_type": "code",
   "execution_count": 14,
   "id": "5dc12853-60ef-488a-9a9a-246941ceae5a",
   "metadata": {},
   "outputs": [],
   "source": [
    "def show_image(X, y, idx):\n",
    "    plt.figure(figsize=(10, 2))\n",
    "    plt.imshow(X[idx])\n",
    "    plt.xlabel(label_names[y_train_flat[idx]])"
   ]
  },
  {
   "cell_type": "code",
   "execution_count": 16,
   "id": "148d5901-d340-481d-9026-fa68f1c95e1a",
   "metadata": {},
   "outputs": [
    {
     "data": {
      "image/png": "[encoded data removed]",
      "text/plain": [
       "<Figure size 1000x200 with 1 Axes>"
      ]
     },
     "metadata": {},
     "output_type": "display_data"
    }
   ],
   "source": [
    "show_image(X_train, y_train, 1)"
   ]
  },
  {
   "cell_type": "code",
   "execution_count": 17,
   "id": "4739d20b-3674-47d7-8637-de74ff612ae6",
   "metadata": {},
   "outputs": [],
   "source": [
    "X_train = X_train / 255 #Normalized the dataset\n",
    "X_test = X_test / 255"
   ]
  },
  {
   "cell_type": "code",
   "execution_count": 29,
   "id": "67c262db-54eb-4c2e-9744-c122036eac92",
   "metadata": {},
   "outputs": [],
   "source": [
    "model = models.Sequential([\n",
    "    layers.Flatten(input_shape=(32, 32, 3)),\n",
    "    layers.Dense(3000, activation='relu'),\n",
    "    layers.Dense(1000, activation='relu'),\n",
    "    layers.Dense(10, activation='sigmoid')\n",
    "])"
   ]
  },
  {
   "cell_type": "code",
   "execution_count": 30,
   "id": "90dd2351-53bb-4071-8ab7-dbd46cee3846",
   "metadata": {},
   "outputs": [],
   "source": [
    "model.compile(optimizer='SGD', loss='sparse_categorical_crossentropy', metrics=['accuracy'])"
   ]
  },
  {
   "cell_type": "code",
   "execution_count": 31,
   "id": "d4d75517-8258-4b86-a63d-98bc8f354533",
   "metadata": {},
   "outputs": [
    {
     "name": "stdout",
     "output_type": "stream",
     "text": [
      "Epoch 1/4\n",
      "1563/1563 [==============================] - 142s 90ms/step - loss: 1.8106 - accuracy: 0.3552\n",
      "Epoch 2/4\n",
      "1563/1563 [==============================] - 158s 101ms/step - loss: 1.6205 - accuracy: 0.4269\n",
      "Epoch 3/4\n",
      "1563/1563 [==============================] - 161s 103ms/step - loss: 1.5402 - accuracy: 0.4564\n",
      "Epoch 4/4\n",
      "1563/1563 [==============================] - 159s 102ms/step - loss: 1.4785 - accuracy: 0.4788\n"
     ]
    },
    {
     "data": {
      "text/plain": [
       "<keras.src.callbacks.History at 0x251a9e5e0d0>"
      ]
     },
     "execution_count": 31,
     "metadata": {},
     "output_type": "execute_result"
    }
   ],
   "source": [
    "model.fit(X_train, y_train_flat, epochs=4)"
   ]
  },
  {
   "cell_type": "code",
   "execution_count": 32,
   "id": "5df16b14-8386-4dcd-8b92-4727db12ccdf",
   "metadata": {},
   "outputs": [
    {
     "name": "stdout",
     "output_type": "stream",
     "text": [
      "313/313 [==============================] - 13s 40ms/step - loss: 1.5401 - accuracy: 0.4562\n"
     ]
    },
    {
     "data": {
      "text/plain": [
       "[1.5400551557540894, 0.4562000036239624]"
      ]
     },
     "execution_count": 32,
     "metadata": {},
     "output_type": "execute_result"
    }
   ],
   "source": [
    "y_test_flat = y_test.reshape(-1,)\n",
    "model.evaluate(X_test, y_test)"
   ]
  },
  {
   "cell_type": "code",
   "execution_count": 64,
   "id": "c12fac1f-482a-4d6f-85fd-9d0fcc9e2696",
   "metadata": {},
   "outputs": [],
   "source": [
    "model = models.Sequential([\n",
    "    layers.Conv2D(32, (3, 3), activation='relu', input_shape=(32, 32, 3)),\n",
    "    layers.MaxPooling2D(2, 3),\n",
    "    layers.Conv2D(32, (3, 3), activation='relu'),\n",
    "    layers.MaxPooling2D(2, 3),\n",
    "    layers.Flatten(input_shape=(32, 32, 3)),\n",
    "    layers.Dense(3000, activation='relu'),\n",
    "    layers.Dense(1000, activation='relu'),\n",
    "    layers.Dense(10, activation='softmax')\n",
    "])"
   ]
  },
  {
   "cell_type": "code",
   "execution_count": 65,
   "id": "619f5263-8673-41e2-bb47-1cd42d46c6a3",
   "metadata": {},
   "outputs": [],
   "source": [
    "model.compile(optimizer='adam', loss='sparse_categorical_crossentropy', metrics=['accuracy'])"
   ]
  },
  {
   "cell_type": "code",
   "execution_count": 66,
   "id": "c29adff5-4734-4d61-a4bb-4654eec482ca",
   "metadata": {},
   "outputs": [
    {
     "name": "stdout",
     "output_type": "stream",
     "text": [
      "Epoch 1/4\n",
      "1563/1563 [==============================] - 163s 104ms/step - loss: 1.4384 - accuracy: 0.4775\n",
      "Epoch 2/4\n",
      "1563/1563 [==============================] - 209s 134ms/step - loss: 1.1067 - accuracy: 0.6081\n",
      "Epoch 3/4\n",
      "1563/1563 [==============================] - 203s 130ms/step - loss: 0.9280 - accuracy: 0.6716\n",
      "Epoch 4/4\n",
      "1563/1563 [==============================] - 384s 246ms/step - loss: 0.7822 - accuracy: 0.7212\n"
     ]
    },
    {
     "data": {
      "text/plain": [
       "<keras.src.callbacks.History at 0x251ac8dd010>"
      ]
     },
     "execution_count": 66,
     "metadata": {},
     "output_type": "execute_result"
    }
   ],
   "source": [
    "model.fit(X_train, y_train_flat, epochs=4)"
   ]
  },
  {
   "cell_type": "code",
   "execution_count": 67,
   "id": "a8ee3c69-7391-4b77-babd-93c09b95c3ce",
   "metadata": {},
   "outputs": [
    {
     "name": "stdout",
     "output_type": "stream",
     "text": [
      "313/313 [==============================] - 6s 18ms/step\n"
     ]
    }
   ],
   "source": [
    "y_predict = model.predict(X_test)"
   ]
  },
  {
   "cell_type": "code",
   "execution_count": 69,
   "id": "f08ff263-6b43-494e-ac2a-d80fcb82c797",
   "metadata": {},
   "outputs": [
    {
     "data": {
      "text/plain": [
       "[3, 8, 8, 8, 6]"
      ]
     },
     "execution_count": 69,
     "metadata": {},
     "output_type": "execute_result"
    }
   ],
   "source": [
    "y_predict_array = [np.argmax(i) for i in y_predict]\n",
    "y_predict_array[:5]"
   ]
  },
  {
   "cell_type": "code",
   "execution_count": 70,
   "id": "16184042-3413-4bc1-a77b-94f96d4bb238",
   "metadata": {},
   "outputs": [
    {
     "data": {
      "text/plain": [
       "array([3, 8, 8, 0, 6], dtype=uint8)"
      ]
     },
     "execution_count": 70,
     "metadata": {},
     "output_type": "execute_result"
    }
   ],
   "source": [
    "y_test_flat[0:5]"
   ]
  },
  {
   "cell_type": "code",
   "execution_count": 71,
   "id": "ae4eec4a-c7a1-4c44-8c81-51e51542ff48",
   "metadata": {},
   "outputs": [
    {
     "name": "stdout",
     "output_type": "stream",
     "text": [
      "313/313 [==============================] - 6s 18ms/step - loss: 0.9281 - accuracy: 0.6776\n"
     ]
    }
   ],
   "source": [
    "y_predict = model.evaluate(X_test, y_test)"
   ]
  },
  {
   "cell_type": "code",
   "execution_count": 75,
   "id": "c142bfad-cb57-4aa0-968f-239d31916ad3",
   "metadata": {},
   "outputs": [
    {
     "name": "stdout",
     "output_type": "stream",
     "text": [
      "              precision    recall  f1-score   support\n",
      "\n",
      "           0       0.76      0.70      0.73      1000\n",
      "           1       0.75      0.85      0.79      1000\n",
      "           2       0.57      0.55      0.56      1000\n",
      "           3       0.56      0.39      0.46      1000\n",
      "           4       0.57      0.67      0.61      1000\n",
      "           5       0.65      0.52      0.58      1000\n",
      "           6       0.64      0.83      0.73      1000\n",
      "           7       0.71      0.75      0.73      1000\n",
      "           8       0.74      0.83      0.78      1000\n",
      "           9       0.81      0.69      0.75      1000\n",
      "\n",
      "    accuracy                           0.68     10000\n",
      "   macro avg       0.68      0.68      0.67     10000\n",
      "weighted avg       0.68      0.68      0.67     10000\n",
      "\n"
     ]
    }
   ],
   "source": [
    "print(classification_report(y_test_flat, y_predict_array))"
   ]
  },
  {
   "cell_type": "code",
   "execution_count": null,
   "id": "c94bfe65-2e17-4443-b609-e46f44eae37c",
   "metadata": {},
   "outputs": [],
   "source": []
  }
 ],
 "metadata": {
  "kernelspec": {
   "display_name": "Python 3 (ipykernel)",
   "language": "python",
   "name": "python3"
  },
  "language_info": {
   "codemirror_mode": {
    "name": "ipython",
    "version": 3
   },
   "file_extension": ".py",
   "mimetype": "text/x-python",
   "name": "python",
   "nbconvert_exporter": "python",
   "pygments_lexer": "ipython3",
   "version": "3.11.4"
  }
 },
 "nbformat": 4,
 "nbformat_minor": 5
}
